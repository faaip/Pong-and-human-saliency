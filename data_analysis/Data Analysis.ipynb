{
 "cells": [
  {
   "cell_type": "code",
   "execution_count": 1,
   "metadata": {
    "collapsed": true
   },
   "outputs": [],
   "source": [
    "import pandas as pd\n",
    "import numpy as np\n",
    "import matplotlib.pyplot as plt\n",
    "import skimage, scipy\n",
    "% matplotlib inline\n",
    "\n",
    "import glob, os, sys, re, datetime, pickle\n"
   ]
  },
  {
   "cell_type": "code",
   "execution_count": 2,
   "metadata": {},
   "outputs": [
    {
     "data": {
      "text/plain": [
       "{'GazePointX (ADCSpx)',\n",
       " 'GazePointY (ADCSpx)',\n",
       " 'PartName',\n",
       " '[Age]Value',\n",
       " '[Gender]Value',\n",
       " '[driverslicense]Value',\n",
       " '[drugs]Value',\n",
       " '[gamer-level]Value',\n",
       " '[nationality]Value',\n",
       " '[pong-level]Value',\n",
       " 'playing_pong',\n",
       " 'watching_pong'}"
      ]
     },
     "execution_count": 2,
     "metadata": {},
     "output_type": "execute_result"
    }
   ],
   "source": [
    "gaze_columns = {'GazePointX (ADCSpx)','GazePointY (ADCSpx)'}\n",
    "quest_col = {'[Age]Value','[Gender]Value','[nationality]Value','[driverslicense]Value','[drugs]Value','[gamer-level]Value','[pong-level]Value'}\n",
    "\n",
    "usefull_columns = {'PartName','playing_pong', 'watching_pong'} | gaze_columns | quest_col\n",
    "usefull_columns"
   ]
  },
  {
   "cell_type": "code",
   "execution_count": 3,
   "metadata": {
    "collapsed": true
   },
   "outputs": [],
   "source": [
    "posix = lambda x: datetime.datetime.strptime(x,'%d-%m-%Y %H:%M:%S.%f').timestamp()"
   ]
  },
  {
   "cell_type": "code",
   "execution_count": 4,
   "metadata": {
    "collapsed": true
   },
   "outputs": [],
   "source": [
    "tobi_exports = glob.glob('Participant_data/*/*.tsv')"
   ]
  },
  {
   "cell_type": "code",
   "execution_count": 5,
   "metadata": {
    "collapsed": true
   },
   "outputs": [],
   "source": [
    "def pong_time(tobi_posix, tsv):\n",
    "  boolean = np.array([False]*len(tobi_posix))\n",
    "  folder = re.findall(r'.*/',tsv)[0]\n",
    "  search = os.path.join(folder,'file*.pickle')\n",
    "  pickles = glob.glob(search)\n",
    "  for p_file in pickles:\n",
    "    with open(p_file,'rb') as p:\n",
    "      p_time = pickle.load(p)[1][[0,-1]]\n",
    "      \n",
    "    boolean[(tobi_posix < p_time[1][0]) & (tobi_posix > p_time[0][0])] = True\n",
    "  return boolean"
   ]
  },
  {
   "cell_type": "code",
   "execution_count": null,
   "metadata": {
    "collapsed": true
   },
   "outputs": [],
   "source": []
  },
  {
   "cell_type": "code",
   "execution_count": 6,
   "metadata": {},
   "outputs": [],
   "source": [
    "df = []\n",
    "for tsv in tobi_exports:\n",
    "  part = re.findall(r'(Participant_[0-9]+)',tsv)\n",
    "  temp_df = pd.read_csv(tsv,sep = '\\t', dtype = object)\n",
    "  temp_df['PartName'] = part[0]\n",
    "  temp_df['time_combi'] = temp_df['RecordingDate'] +' '+ temp_df['LocalTimeStamp']\n",
    "  temp_df.dropna(subset = ['time_combi'], inplace = True)\n",
    "  temp_df['posix'] = temp_df['time_combi'].map(posix)\n",
    "  \n",
    "  play_pong = pong_time(temp_df['posix'].values, tsv)\n",
    "  temp_df['playing_pong'] = play_pong\n",
    "  temp_df['watching_pong'] = temp_df['MediaName'].apply(lambda x: 'just_agent' in x if isinstance(x, str) else False)\n",
    "  sel_col = list(usefull_columns & set(temp_df.columns))\n",
    "  df.append(temp_df[sel_col])\n",
    "df = pd.concat(df)\n",
    "\n",
    "# Because we changed a question\n",
    "df.loc[df['[pong-level]Value'] == '2', '[gamer-level]Value']  = '5-6 hours'"
   ]
  },
  {
   "cell_type": "code",
   "execution_count": 7,
   "metadata": {},
   "outputs": [
    {
     "data": {
      "text/plain": [
       "(array([nan, '2'], dtype=object),\n",
       " array(['7-8 hours', '5-6 hours', '1-2 hours', '0 hours', '3-4 hours'],\n",
       "       dtype=object))"
      ]
     },
     "execution_count": 7,
     "metadata": {},
     "output_type": "execute_result"
    }
   ],
   "source": [
    "df['[pong-level]Value'].unique(), df['[gamer-level]Value'].unique()"
   ]
  },
  {
   "cell_type": "code",
   "execution_count": null,
   "metadata": {
    "collapsed": true
   },
   "outputs": [],
   "source": []
  },
  {
   "cell_type": "markdown",
   "metadata": {
    "scrolled": false
   },
   "source": [
    "# Null values"
   ]
  },
  {
   "cell_type": "code",
   "execution_count": 8,
   "metadata": {},
   "outputs": [
    {
     "data": {
      "text/plain": [
       "GazePointX (ADCSpx)      0.339612\n",
       "GazePointY (ADCSpx)      0.339612\n",
       "PartName                 0.000000\n",
       "[Age]Value               0.000000\n",
       "[Gender]Value            0.000000\n",
       "[driverslicense]Value    0.000000\n",
       "[drugs]Value             0.000000\n",
       "[gamer-level]Value       0.000000\n",
       "[nationality]Value       0.000000\n",
       "[pong-level]Value        0.931113\n",
       "playing_pong             0.000000\n",
       "watching_pong            0.000000\n",
       "dtype: float64"
      ]
     },
     "execution_count": 8,
     "metadata": {},
     "output_type": "execute_result"
    }
   ],
   "source": [
    "# Total Null values in percentage\n",
    "df.isnull().sum()/len(df)"
   ]
  },
  {
   "cell_type": "code",
   "execution_count": 9,
   "metadata": {},
   "outputs": [
    {
     "data": {
      "text/html": [
       "<div>\n",
       "<style>\n",
       "    .dataframe thead tr:only-child th {\n",
       "        text-align: right;\n",
       "    }\n",
       "\n",
       "    .dataframe thead th {\n",
       "        text-align: left;\n",
       "    }\n",
       "\n",
       "    .dataframe tbody tr th {\n",
       "        vertical-align: top;\n",
       "    }\n",
       "</style>\n",
       "<table border=\"1\" class=\"dataframe\">\n",
       "  <thead>\n",
       "    <tr style=\"text-align: right;\">\n",
       "      <th></th>\n",
       "      <th>ratio</th>\n",
       "      <th>count</th>\n",
       "    </tr>\n",
       "    <tr>\n",
       "      <th>PartName</th>\n",
       "      <th></th>\n",
       "      <th></th>\n",
       "    </tr>\n",
       "  </thead>\n",
       "  <tbody>\n",
       "    <tr>\n",
       "      <th>Participant_1</th>\n",
       "      <td>0.341640</td>\n",
       "      <td>46155</td>\n",
       "    </tr>\n",
       "    <tr>\n",
       "      <th>Participant_10</th>\n",
       "      <td>0.348816</td>\n",
       "      <td>47584</td>\n",
       "    </tr>\n",
       "    <tr>\n",
       "      <th>Participant_11</th>\n",
       "      <td>0.216741</td>\n",
       "      <td>60795</td>\n",
       "    </tr>\n",
       "    <tr>\n",
       "      <th>Participant_12</th>\n",
       "      <td>0.644410</td>\n",
       "      <td>34350</td>\n",
       "    </tr>\n",
       "    <tr>\n",
       "      <th>Participant_13</th>\n",
       "      <td>0.180556</td>\n",
       "      <td>64310</td>\n",
       "    </tr>\n",
       "    <tr>\n",
       "      <th>Participant_2</th>\n",
       "      <td>0.227447</td>\n",
       "      <td>51700</td>\n",
       "    </tr>\n",
       "    <tr>\n",
       "      <th>Participant_3</th>\n",
       "      <td>0.162430</td>\n",
       "      <td>55587</td>\n",
       "    </tr>\n",
       "    <tr>\n",
       "      <th>Participant_4</th>\n",
       "      <td>0.639759</td>\n",
       "      <td>28891</td>\n",
       "    </tr>\n",
       "    <tr>\n",
       "      <th>Participant_5</th>\n",
       "      <td>0.551363</td>\n",
       "      <td>36004</td>\n",
       "    </tr>\n",
       "    <tr>\n",
       "      <th>Participant_6</th>\n",
       "      <td>0.111283</td>\n",
       "      <td>70150</td>\n",
       "    </tr>\n",
       "    <tr>\n",
       "      <th>Participant_7</th>\n",
       "      <td>0.446950</td>\n",
       "      <td>54560</td>\n",
       "    </tr>\n",
       "    <tr>\n",
       "      <th>Participant_8</th>\n",
       "      <td>0.167727</td>\n",
       "      <td>69712</td>\n",
       "    </tr>\n",
       "    <tr>\n",
       "      <th>Participant_9</th>\n",
       "      <td>0.216638</td>\n",
       "      <td>52280</td>\n",
       "    </tr>\n",
       "  </tbody>\n",
       "</table>\n",
       "</div>"
      ],
      "text/plain": [
       "                   ratio  count\n",
       "PartName                       \n",
       "Participant_1   0.341640  46155\n",
       "Participant_10  0.348816  47584\n",
       "Participant_11  0.216741  60795\n",
       "Participant_12  0.644410  34350\n",
       "Participant_13  0.180556  64310\n",
       "Participant_2   0.227447  51700\n",
       "Participant_3   0.162430  55587\n",
       "Participant_4   0.639759  28891\n",
       "Participant_5   0.551363  36004\n",
       "Participant_6   0.111283  70150\n",
       "Participant_7   0.446950  54560\n",
       "Participant_8   0.167727  69712\n",
       "Participant_9   0.216638  52280"
      ]
     },
     "execution_count": 9,
     "metadata": {},
     "output_type": "execute_result"
    }
   ],
   "source": [
    "# Null values per participant\n",
    "\n",
    "df.groupby(['PartName'])['GazePointX (ADCSpx)'].agg([('ratio' ,lambda x: x.isnull().sum()/len(x)), 'count'])"
   ]
  },
  {
   "cell_type": "code",
   "execution_count": 13,
   "metadata": {
    "collapsed": true
   },
   "outputs": [],
   "source": [
    "# How long were they playing/watching\n",
    "def pif(g):\n",
    "  play = g['playing_pong'].sum()\n",
    "  play_null = g[g['playing_pong']]['GazePointX (ADCSpx)'].isnull().sum()\n",
    "  watch = g['watching_pong'].sum()\n",
    "  watch_null = g[g['watching_pong']]['GazePointX (ADCSpx)'].isnull().sum()\n",
    "  other_stuff = ~(g['playing_pong'] | g['watching_pong'])\n",
    "  other = other_stuff.sum()\n",
    "  other_null = g[other_stuff]['GazePointX (ADCSpx)'].isnull().sum()\n",
    "  \n",
    "  return np.array([0,play-play_null, play_null, watch-watch_null, watch_null, other-other_null, other_null], dtype = np.float)\n",
    "\n",
    "res = df.groupby(['PartName']).apply(pif)\n",
    "res = res.iloc[[0,5,6,7,8,9,10,11,12,1,2,3,4]]\n",
    "plot_values_cumm = np.array([i for i in res.values]).cumsum(axis = 1).T\n",
    "\n",
    "tot_values = plot_values_cumm[-1]\n",
    "\n",
    "plot_values_cumm = plot_values_cumm/tot_values\n",
    "\n",
    "plot_values = np.array([i for i in res.values]).T/ tot_values"
   ]
  },
  {
   "cell_type": "code",
   "execution_count": 19,
   "metadata": {},
   "outputs": [
    {
     "name": "stdout",
     "output_type": "stream",
     "text": [
      "['red', 'red', 'purple', 'purple', 'green', 'green']\n"
     ]
    },
    {
     "data": {
      "image/png": "[encoded data removed]",
      "text/plain": [
       "<matplotlib.figure.Figure at 0x1314516d8>"
      ]
     },
     "metadata": {},
     "output_type": "display_data"
    }
   ],
   "source": [
    "x = np.arange(plot_values.shape[1])\n",
    "\n",
    "plt.figure(figsize = (20,10))\n",
    "\n",
    "labels = ['Playing', 'Playing w/o Fix', 'Watching', 'Watching w/o Fix', 'Other','Other w/o Fix']\n",
    "colors = ['red', 'red', 'purple','purple','green','green']\n",
    "alphas = [1]*6\n",
    "alphas = [1,.5,1,.5,1,.5]\n",
    "print(colors)\n",
    "for i in range(1,plot_values.shape[0]):\n",
    "  plt.bar(x,plot_values[i], bottom = plot_values_cumm[i-1], color = colors[i-1], alpha = alphas[i-1], label = labels[i-1])\n",
    "\n",
    "x_ticks = ['P'+re.findall('(_[0-9]+)', p)[0] for p in res.index]\n",
    "plt.xticks(x, x_ticks, fontsize = 15)\n",
    "plt.yticks(fontsize = 15)\n",
    "plt.legend(bbox_to_anchor = (1.01,1), prop = {'size' : 20})\n",
    "\n",
    "plt.ylabel('Ratio of Measurments', fontsize = 20)\n",
    "plt.xlabel('Participant', fontsize = 20)\n",
    "plt.title('Ratio Failed Measurements', fontsize = 30)\n",
    "plt.savefig('Measurement_ratio.png', bbox_inches = 'tight')\n",
    "plt.show()"
   ]
  },
  {
   "cell_type": "markdown",
   "metadata": {},
   "source": [
    "# Participants"
   ]
  },
  {
   "cell_type": "code",
   "execution_count": 85,
   "metadata": {
    "collapsed": true
   },
   "outputs": [],
   "source": [
    "quest_col = ['[Age]Value','[Gender]Value','[nationality]Value','[driverslicense]Value','[drugs]Value','[gamer-level]Value']\n",
    "\n",
    "\n",
    "df_part = df.groupby(['PartName'])[quest_col].min()"
   ]
  },
  {
   "cell_type": "code",
   "execution_count": 87,
   "metadata": {
    "collapsed": true
   },
   "outputs": [],
   "source": [
    "df_part['[Age]Value'] = df_part['[Age]Value'].apply(lambda x: 2018-int(x))"
   ]
  },
  {
   "cell_type": "code",
   "execution_count": 88,
   "metadata": {},
   "outputs": [
    {
     "data": {
      "text/html": [
       "<div>\n",
       "<style>\n",
       "    .dataframe thead tr:only-child th {\n",
       "        text-align: right;\n",
       "    }\n",
       "\n",
       "    .dataframe thead th {\n",
       "        text-align: left;\n",
       "    }\n",
       "\n",
       "    .dataframe tbody tr th {\n",
       "        vertical-align: top;\n",
       "    }\n",
       "</style>\n",
       "<table border=\"1\" class=\"dataframe\">\n",
       "  <thead>\n",
       "    <tr style=\"text-align: right;\">\n",
       "      <th></th>\n",
       "      <th>[Age]Value</th>\n",
       "      <th>[Gender]Value</th>\n",
       "      <th>[nationality]Value</th>\n",
       "      <th>[driverslicense]Value</th>\n",
       "      <th>[drugs]Value</th>\n",
       "      <th>[gamer-level]Value</th>\n",
       "    </tr>\n",
       "    <tr>\n",
       "      <th>PartName</th>\n",
       "      <th></th>\n",
       "      <th></th>\n",
       "      <th></th>\n",
       "      <th></th>\n",
       "      <th></th>\n",
       "      <th></th>\n",
       "    </tr>\n",
       "  </thead>\n",
       "  <tbody>\n",
       "    <tr>\n",
       "      <th>Participant_1</th>\n",
       "      <td>24</td>\n",
       "      <td>Female</td>\n",
       "      <td>Born in the USA</td>\n",
       "      <td>Yes</td>\n",
       "      <td>No</td>\n",
       "      <td>5-6 hours</td>\n",
       "    </tr>\n",
       "    <tr>\n",
       "      <th>Participant_10</th>\n",
       "      <td>27</td>\n",
       "      <td>Male</td>\n",
       "      <td>German</td>\n",
       "      <td>Yes</td>\n",
       "      <td>No</td>\n",
       "      <td>5-6 hours</td>\n",
       "    </tr>\n",
       "    <tr>\n",
       "      <th>Participant_11</th>\n",
       "      <td>27</td>\n",
       "      <td>Female</td>\n",
       "      <td>Greek</td>\n",
       "      <td>Yes</td>\n",
       "      <td>No</td>\n",
       "      <td>0 hours</td>\n",
       "    </tr>\n",
       "    <tr>\n",
       "      <th>Participant_12</th>\n",
       "      <td>28</td>\n",
       "      <td>Female</td>\n",
       "      <td>Greek</td>\n",
       "      <td>Yes</td>\n",
       "      <td>No</td>\n",
       "      <td>0 hours</td>\n",
       "    </tr>\n",
       "    <tr>\n",
       "      <th>Participant_13</th>\n",
       "      <td>23</td>\n",
       "      <td>Male</td>\n",
       "      <td>Chinese</td>\n",
       "      <td>No</td>\n",
       "      <td>No</td>\n",
       "      <td>3-4 hours</td>\n",
       "    </tr>\n",
       "    <tr>\n",
       "      <th>Participant_2</th>\n",
       "      <td>23</td>\n",
       "      <td>Female</td>\n",
       "      <td>Born in the USA</td>\n",
       "      <td>Yes</td>\n",
       "      <td>No</td>\n",
       "      <td>0 hours</td>\n",
       "    </tr>\n",
       "    <tr>\n",
       "      <th>Participant_3</th>\n",
       "      <td>25</td>\n",
       "      <td>Male</td>\n",
       "      <td>Italian</td>\n",
       "      <td>Yes</td>\n",
       "      <td>No</td>\n",
       "      <td>0 hours</td>\n",
       "    </tr>\n",
       "    <tr>\n",
       "      <th>Participant_4</th>\n",
       "      <td>28</td>\n",
       "      <td>Female</td>\n",
       "      <td>Swedish</td>\n",
       "      <td>No</td>\n",
       "      <td>No</td>\n",
       "      <td>0 hours</td>\n",
       "    </tr>\n",
       "    <tr>\n",
       "      <th>Participant_5</th>\n",
       "      <td>23</td>\n",
       "      <td>Female</td>\n",
       "      <td>Italian</td>\n",
       "      <td>No</td>\n",
       "      <td>No</td>\n",
       "      <td>0 hours</td>\n",
       "    </tr>\n",
       "    <tr>\n",
       "      <th>Participant_6</th>\n",
       "      <td>23</td>\n",
       "      <td>Female</td>\n",
       "      <td>German</td>\n",
       "      <td>Yes</td>\n",
       "      <td>No</td>\n",
       "      <td>1-2 hours</td>\n",
       "    </tr>\n",
       "    <tr>\n",
       "      <th>Participant_7</th>\n",
       "      <td>23</td>\n",
       "      <td>Male</td>\n",
       "      <td>Italian</td>\n",
       "      <td>Yes</td>\n",
       "      <td>No</td>\n",
       "      <td>1-2 hours</td>\n",
       "    </tr>\n",
       "    <tr>\n",
       "      <th>Participant_8</th>\n",
       "      <td>24</td>\n",
       "      <td>Male</td>\n",
       "      <td>Spanish</td>\n",
       "      <td>Yes</td>\n",
       "      <td>No</td>\n",
       "      <td>7-8 hours</td>\n",
       "    </tr>\n",
       "    <tr>\n",
       "      <th>Participant_9</th>\n",
       "      <td>26</td>\n",
       "      <td>Prefer not to disclose</td>\n",
       "      <td>Dutch</td>\n",
       "      <td>Yes</td>\n",
       "      <td>No</td>\n",
       "      <td>0 hours</td>\n",
       "    </tr>\n",
       "  </tbody>\n",
       "</table>\n",
       "</div>"
      ],
      "text/plain": [
       "                [Age]Value           [Gender]Value [nationality]Value  \\\n",
       "PartName                                                                \n",
       "Participant_1           24                  Female    Born in the USA   \n",
       "Participant_10          27                    Male             German   \n",
       "Participant_11          27                  Female              Greek   \n",
       "Participant_12          28                  Female              Greek   \n",
       "Participant_13          23                    Male            Chinese   \n",
       "Participant_2           23                  Female    Born in the USA   \n",
       "Participant_3           25                    Male            Italian   \n",
       "Participant_4           28                  Female            Swedish   \n",
       "Participant_5           23                  Female            Italian   \n",
       "Participant_6           23                  Female             German   \n",
       "Participant_7           23                    Male            Italian   \n",
       "Participant_8           24                    Male            Spanish   \n",
       "Participant_9           26  Prefer not to disclose              Dutch   \n",
       "\n",
       "               [driverslicense]Value [drugs]Value [gamer-level]Value  \n",
       "PartName                                                              \n",
       "Participant_1                    Yes           No          5-6 hours  \n",
       "Participant_10                   Yes           No          5-6 hours  \n",
       "Participant_11                   Yes           No            0 hours  \n",
       "Participant_12                   Yes           No            0 hours  \n",
       "Participant_13                    No           No          3-4 hours  \n",
       "Participant_2                    Yes           No            0 hours  \n",
       "Participant_3                    Yes           No            0 hours  \n",
       "Participant_4                     No           No            0 hours  \n",
       "Participant_5                     No           No            0 hours  \n",
       "Participant_6                    Yes           No          1-2 hours  \n",
       "Participant_7                    Yes           No          1-2 hours  \n",
       "Participant_8                    Yes           No          7-8 hours  \n",
       "Participant_9                    Yes           No            0 hours  "
      ]
     },
     "execution_count": 88,
     "metadata": {},
     "output_type": "execute_result"
    }
   ],
   "source": [
    "df_part"
   ]
  },
  {
   "cell_type": "code",
   "execution_count": null,
   "metadata": {
    "collapsed": true
   },
   "outputs": [],
   "source": []
  },
  {
   "cell_type": "code",
   "execution_count": null,
   "metadata": {
    "collapsed": true
   },
   "outputs": [],
   "source": []
  },
  {
   "cell_type": "code",
   "execution_count": null,
   "metadata": {
    "collapsed": true
   },
   "outputs": [],
   "source": []
  },
  {
   "cell_type": "code",
   "execution_count": null,
   "metadata": {
    "collapsed": true
   },
   "outputs": [],
   "source": []
  },
  {
   "cell_type": "code",
   "execution_count": null,
   "metadata": {
    "collapsed": true
   },
   "outputs": [],
   "source": []
  },
  {
   "cell_type": "code",
   "execution_count": null,
   "metadata": {
    "collapsed": true
   },
   "outputs": [],
   "source": []
  },
  {
   "cell_type": "code",
   "execution_count": 91,
   "metadata": {},
   "outputs": [
    {
     "name": "stderr",
     "output_type": "stream",
     "text": [
      "/usr/local/lib/python3.6/site-packages/IPython/core/interactiveshell.py:2698: DtypeWarning: Columns (13,17,34,42,43) have mixed types. Specify dtype option on import or set low_memory=False.\n",
      "  interactivity=interactivity, compiler=compiler, result=result)\n"
     ]
    }
   ],
   "source": [
    "h_df = pd.read_csv(tobi_exports[0], sep = '\\t')\n",
    "h_df['time_combi'] = h_df['RecordingDate'] +' '+ h_df['LocalTimeStamp']\n",
    "h_df.dropna(subset = ['time_combi'], inplace = True)\n",
    "h_df['posix'] = h_df['time_combi'].map(posix)"
   ]
  },
  {
   "cell_type": "code",
   "execution_count": 108,
   "metadata": {},
   "outputs": [
    {
     "data": {
      "text/plain": [
       "120.68056339511965"
      ]
     },
     "execution_count": 108,
     "metadata": {},
     "output_type": "execute_result"
    }
   ],
   "source": [
    "len(h_df)/(h_df['posix'].values[-1]-h_df['posix'].values[0])"
   ]
  },
  {
   "cell_type": "markdown",
   "metadata": {},
   "source": [
    "# Test"
   ]
  },
  {
   "cell_type": "code",
   "execution_count": 39,
   "metadata": {
    "collapsed": true
   },
   "outputs": [],
   "source": [
    "with open('Participant_data/Participant_1/Play_round_0.pickle','rb') as f:\n",
    "  data = pickle.load(f)"
   ]
  },
  {
   "cell_type": "code",
   "execution_count": 42,
   "metadata": {
    "collapsed": true
   },
   "outputs": [],
   "source": [
    "wanted_images = np.where(data[1]!= 0)[0]"
   ]
  },
  {
   "cell_type": "code",
   "execution_count": 53,
   "metadata": {},
   "outputs": [
    {
     "data": {
      "text/plain": [
       "<matplotlib.image.AxesImage at 0x127b150f0>"
      ]
     },
     "execution_count": 53,
     "metadata": {},
     "output_type": "execute_result"
    },
    {
     "data": {
      "image/png": "[encoded data removed]",
      "text/plain": [
       "<matplotlib.figure.Figure at 0x1129443c8>"
      ]
     },
     "metadata": {},
     "output_type": "display_data"
    }
   ],
   "source": [
    "ind = 50\n",
    "fig, ax = plt.subplots(ncols = 3, figsize = (20,10))\n",
    "ax[0].imshow(data[0][ind])\n",
    "ax[1].imshow(data[1][ind])\n",
    "ax[2].imshow(data[2][ind])\n"
   ]
  },
  {
   "cell_type": "code",
   "execution_count": 65,
   "metadata": {
    "collapsed": true
   },
   "outputs": [],
   "source": [
    "human = skimage.filters.gaussian(data[1][ind])\n",
    "agent = data[2][ind]"
   ]
  },
  {
   "cell_type": "code",
   "execution_count": 69,
   "metadata": {},
   "outputs": [
    {
     "data": {
      "text/plain": [
       "6.0296461592658925"
      ]
     },
     "execution_count": 69,
     "metadata": {},
     "output_type": "execute_result"
    }
   ],
   "source": [
    "scipy.stats.entropy(human.reshape(-1),agent.reshape(-1))"
   ]
  },
  {
   "cell_type": "code",
   "execution_count": 70,
   "metadata": {},
   "outputs": [
    {
     "name": "stdout",
     "output_type": "stream",
     "text": [
      "7.616230556173284\n",
      "7.906973133658604\n",
      "7.851410375306018\n",
      "7.812127426163593\n",
      "7.6508646400129745\n"
     ]
    }
   ],
   "source": [
    "for i in range(5):\n",
    "  r_agent = data[2][20+i*5]\n",
    "  print(scipy.stats.entropy(human.reshape(-1),r_agent.reshape(-1)))"
   ]
  },
  {
   "cell_type": "code",
   "execution_count": null,
   "metadata": {
    "collapsed": true
   },
   "outputs": [],
   "source": []
  }
 ],
 "metadata": {
  "kernelspec": {
   "display_name": "Python 3",
   "language": "python",
   "name": "python3"
  },
  "language_info": {
   "codemirror_mode": {
    "name": "ipython",
    "version": 3
   },
   "file_extension": ".py",
   "mimetype": "text/x-python",
   "name": "python",
   "nbconvert_exporter": "python",
   "pygments_lexer": "ipython3",
   "version": "3.6.5"
  }
 },
 "nbformat": 4,
 "nbformat_minor": 2
}
